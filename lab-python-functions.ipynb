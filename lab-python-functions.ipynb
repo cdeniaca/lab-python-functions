{
 "cells": [
  {
   "cell_type": "markdown",
   "id": "25d7736c-ba17-4aff-b6bb-66eba20fbf4e",
   "metadata": {},
   "source": [
    "# Lab | Functions"
   ]
  },
  {
   "cell_type": "markdown",
   "id": "0c581062-8967-4d93-b06e-62833222f930",
   "metadata": {
    "tags": []
   },
   "source": [
    "## Exercise: Managing Customer Orders with Functions\n",
    "\n",
    "In the previous exercise, you improved the code for managing customer orders by using loops and flow control. Now, let's take it a step further and refactor the code by introducing functions.\n",
    "\n",
    "Follow the steps below to complete the exercise:\n",
    "\n",
    "1. Define a function named `initialize_inventory` that takes `products` as a parameter. Inside the function, implement the code for initializing the inventory dictionary using a loop and user input.\n",
    "\n",
    "2. Define a function named `get_customer_orders` that takes no parameters. Inside the function, implement the code for prompting the user to enter the product names using a loop. The function should return the `customer_orders` set.\n",
    "\n",
    "3. Define a function named `update_inventory` that takes `customer_orders` and `inventory` as parameters. Inside the function, implement the code for updating the inventory dictionary based on the customer orders.\n",
    "\n",
    "4. Define a function named `calculate_order_statistics` that takes `customer_orders` and `products` as parameters. Inside the function, implement the code for calculating the order statistics (total products ordered, and percentage of unique products ordered). The function should return these values.\n",
    "\n",
    "5. Define a function named `print_order_statistics` that takes `order_statistics` as a parameter. Inside the function, implement the code for printing the order statistics.\n",
    "\n",
    "6. Define a function named `print_updated_inventory` that takes `inventory` as a parameter. Inside the function, implement the code for printing the updated inventory.\n",
    "\n",
    "7. Call the functions in the appropriate sequence to execute the program and manage customer orders.\n",
    "\n",
    "Hints for functions:\n",
    "\n",
    "- Consider the input parameters required for each function and their return values.\n",
    "- Utilize function parameters and return values to transfer data between functions.\n",
    "- Test your functions individually to ensure they work correctly.\n",
    "\n",
    "\n"
   ]
  },
  {
   "cell_type": "markdown",
   "id": "3dcdf92c",
   "metadata": {},
   "source": [
    "# Exercise 1:"
   ]
  },
  {
   "cell_type": "code",
   "execution_count": 1,
   "id": "f34be40d",
   "metadata": {},
   "outputs": [
    {
     "name": "stdout",
     "output_type": "stream",
     "text": [
      "\n",
      "Inventory:\n",
      "t-shirt: 1\n",
      "mug: 2\n",
      "hat: 3\n",
      "book: 4\n",
      "keychain: 5\n"
     ]
    }
   ],
   "source": [
    "products = [\"t-shirt\", \"mug\", \"hat\", \"book\", \"keychain\"]\n",
    "\n",
    "def initialize_inventory(products):\n",
    "    inventory = {}  \n",
    "\n",
    "    for product in products:\n",
    "        while True:\n",
    "            try:\n",
    "                quantity = int(input(f\"Enter the quantity for {product}: \"))\n",
    "                if quantity < 0:\n",
    "                    print(\"Quantity cannot be negative. Please enter a valid number.\")\n",
    "                else:\n",
    "                    inventory[product] = quantity \n",
    "                    break\n",
    "            except ValueError:\n",
    "                print(\"Invalid input. Please enter a number.\")\n",
    "\n",
    "    return inventory\n",
    "\n",
    "inventory = initialize_inventory(products)\n",
    "\n",
    "print(\"\\nInventory:\")\n",
    "for product, quantity in inventory.items():\n",
    "    print(f\"{product}: {quantity}\")\n"
   ]
  },
  {
   "cell_type": "markdown",
   "id": "adec1f99",
   "metadata": {},
   "source": [
    "# Exercise 2:"
   ]
  },
  {
   "cell_type": "code",
   "execution_count": 2,
   "id": "176b818d",
   "metadata": {},
   "outputs": [],
   "source": [
    "def get_customer_orders(products, inventory):\n",
    "    customer_orders = {}  # Diccionario para almacenar productos y cantidades\n",
    "    \n",
    "    while True:\n",
    "        product = input(\"Enter the product name (or type 'done' to finish): \").strip().lower()\n",
    "        \n",
    "        if product == 'done':\n",
    "            break \n",
    "        \n",
    "        if product not in products:\n",
    "            print(f\"Warning: '{product}' is not in the inventory.\")\n",
    "        else:\n",
    "            # Verificar si hay inventario disponible\n",
    "            available_quantity = inventory.get(product, 0)\n",
    "            if available_quantity == 0:\n",
    "                print(f\"Sorry, '{product}' is out of stock.\")\n",
    "                continue  # Salta a la siguiente iteración si no hay stock\n",
    "            \n",
    "            while True:\n",
    "                try:\n",
    "                    quantity = int(input(f\"Enter the quantity for '{product}' (Available: {available_quantity}): \"))\n",
    "                    if quantity < 0:\n",
    "                        print(\"Quantity cannot be negative. Please enter a valid number.\")\n",
    "                    elif quantity > available_quantity:\n",
    "                        print(f\"Sorry, you cannot order more than {available_quantity} units of '{product}'.\")\n",
    "                    else:\n",
    "                        # Si el producto ya está en el pedido, acumula la cantidad\n",
    "                        if product in customer_orders:\n",
    "                            customer_orders[product] += quantity\n",
    "                        else:\n",
    "                            customer_orders[product] = quantity\n",
    "                        \n",
    "                        # Actualizar el inventario\n",
    "                        inventory[product] -= quantity\n",
    "                        break\n",
    "                except ValueError:\n",
    "                    print(\"Invalid input. Please enter a number.\")\n",
    "    \n",
    "    return customer_orders\n",
    "\n",
    "\n",
    "\n"
   ]
  },
  {
   "cell_type": "markdown",
   "id": "78fc4646",
   "metadata": {},
   "source": [
    "# Exercise 3:"
   ]
  },
  {
   "cell_type": "code",
   "execution_count": 3,
   "id": "4ae628f9",
   "metadata": {},
   "outputs": [
    {
     "name": "stdout",
     "output_type": "stream",
     "text": [
      "\n",
      "Customer orders:\n",
      "hat: 2\n",
      "\n",
      "Updated Inventory:\n",
      "t-shirt: 1\n",
      "mug: 2\n",
      "hat: 1\n",
      "book: 4\n",
      "keychain: 5\n"
     ]
    }
   ],
   "source": [
    "\n",
    "# Obtener pedidos del cliente\n",
    "orders = get_customer_orders(products, inventory)\n",
    "\n",
    "# Imprimir los pedidos del cliente\n",
    "print(\"\\nCustomer orders:\")\n",
    "for product, quantity in orders.items():\n",
    "    print(f\"{product}: {quantity}\")\n",
    "\n",
    "# Imprimir el inventario actualizado\n",
    "print(\"\\nUpdated Inventory:\")\n",
    "for product, quantity in inventory.items():\n",
    "    print(f\"{product}: {quantity}\")"
   ]
  },
  {
   "cell_type": "markdown",
   "id": "87338da2",
   "metadata": {},
   "source": [
    "# Exercise 4:"
   ]
  },
  {
   "cell_type": "code",
   "execution_count": 4,
   "id": "759c560c",
   "metadata": {},
   "outputs": [],
   "source": [
    "# Function to calculate order statistics\n",
    "def calculate_order_statistics(customer_orders, products):\n",
    "    total_products_ordered = sum(customer_orders.values())\n",
    "    unique_products_ordered = len(customer_orders)\n",
    "    total_unique_products = len(products)\n",
    "    \n",
    "    percentage_unique_products_ordered = (unique_products_ordered / total_unique_products) * 100\n",
    "    \n",
    "    return total_products_ordered, percentage_unique_products_ordered\n",
    "\n"
   ]
  },
  {
   "cell_type": "markdown",
   "id": "5345a963",
   "metadata": {},
   "source": [
    "# Exercise 5:"
   ]
  },
  {
   "cell_type": "code",
   "execution_count": 7,
   "id": "5e687e44",
   "metadata": {},
   "outputs": [],
   "source": [
    "# Function to print order statistics\n",
    "def print_order_statistics(order_statistics):\n",
    "    total_products_ordered, percentage_unique_products_ordered = order_statistics\n",
    "    \n",
    "    print(f\"Total products ordered: {total_products_ordered}\")\n",
    "    print(f\"Percentage of unique products ordered: {percentage_unique_products_ordered:.2f}%\")\n"
   ]
  },
  {
   "cell_type": "markdown",
   "id": "55059315",
   "metadata": {},
   "source": [
    "# Exercise 6:"
   ]
  },
  {
   "cell_type": "code",
   "execution_count": 8,
   "id": "9774a448",
   "metadata": {},
   "outputs": [],
   "source": [
    "# Function to print updated inventory\n",
    "def print_updated_inventory(inventory):\n",
    "    print(\"Updated Inventory:\")\n",
    "    for product, quantity in inventory.items():\n",
    "        print(f\"{product}: {quantity} units\")"
   ]
  }
 ],
 "metadata": {
  "kernelspec": {
   "display_name": "Python 3 (ipykernel)",
   "language": "python",
   "name": "python3"
  },
  "language_info": {
   "codemirror_mode": {
    "name": "ipython",
    "version": 3
   },
   "file_extension": ".py",
   "mimetype": "text/x-python",
   "name": "python",
   "nbconvert_exporter": "python",
   "pygments_lexer": "ipython3",
   "version": "3.11.9"
  }
 },
 "nbformat": 4,
 "nbformat_minor": 5
}
